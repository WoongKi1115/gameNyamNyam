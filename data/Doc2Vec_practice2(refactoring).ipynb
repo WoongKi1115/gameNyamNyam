{
 "cells": [
  {
   "cell_type": "code",
   "execution_count": 1,
   "id": "ca151739",
   "metadata": {},
   "outputs": [],
   "source": [
    "import urllib.request\n",
    "import pandas as pd\n",
    "import numpy as np\n",
    "import matplotlib.pyplot as plt\n",
    "import requests\n",
    "import re\n",
    "import time\n",
    "import nltk\n",
    "\n",
    "from PIL import Image\n",
    "from io import BytesIO\n",
    "from nltk.tokenize import RegexpTokenizer\n",
    "from gensim.models import Word2Vec\n",
    "from gensim.models import KeyedVectors\n",
    "from gensim.models.word2vec import Word2Vec\n",
    "\n",
    "from nltk.corpus import stopwords\n",
    "from sklearn.metrics.pairwise import cosine_similarity"
   ]
  },
  {
   "cell_type": "code",
   "execution_count": 2,
   "id": "f3a5f1b0",
   "metadata": {},
   "outputs": [
    {
     "name": "stderr",
     "output_type": "stream",
     "text": [
      "[nltk_data] Downloading package stopwords to\n",
      "[nltk_data]     C:\\Users\\multicampus\\AppData\\Roaming\\nltk_data...\n",
      "[nltk_data]   Package stopwords is already up-to-date!\n"
     ]
    },
    {
     "data": {
      "text/plain": [
       "True"
      ]
     },
     "execution_count": 2,
     "metadata": {},
     "output_type": "execute_result"
    }
   ],
   "source": [
    "# Download stopwords\n",
    "nltk.download('stopwords')"
   ]
  },
  {
   "cell_type": "code",
   "execution_count": 3,
   "id": "acf02b25",
   "metadata": {},
   "outputs": [
    {
     "name": "stdout",
     "output_type": "stream",
     "text": [
      "Total number of documents: 9877\n"
     ]
    }
   ],
   "source": [
    "# Load data\n",
    "df = pd.read_excel(\"test_to_excel.xlsx\")\n",
    "print('Total number of documents:', len(df))\n"
   ]
  },
  {
   "cell_type": "code",
   "execution_count": 4,
   "id": "2f7c9f05",
   "metadata": {},
   "outputs": [
    {
     "data": {
      "text/html": [
       "<div>\n",
       "<style scoped>\n",
       "    .dataframe tbody tr th:only-of-type {\n",
       "        vertical-align: middle;\n",
       "    }\n",
       "\n",
       "    .dataframe tbody tr th {\n",
       "        vertical-align: top;\n",
       "    }\n",
       "\n",
       "    .dataframe thead th {\n",
       "        text-align: right;\n",
       "    }\n",
       "</style>\n",
       "<table border=\"1\" class=\"dataframe\">\n",
       "  <thead>\n",
       "    <tr style=\"text-align: right;\">\n",
       "      <th></th>\n",
       "      <th>appid</th>\n",
       "      <th>name</th>\n",
       "      <th>short_description</th>\n",
       "      <th>price</th>\n",
       "      <th>categories</th>\n",
       "      <th>genres</th>\n",
       "      <th>recommendations</th>\n",
       "      <th>release_date</th>\n",
       "      <th>developers</th>\n",
       "      <th>metacritic</th>\n",
       "      <th>image</th>\n",
       "    </tr>\n",
       "  </thead>\n",
       "  <tbody>\n",
       "    <tr>\n",
       "      <th>0</th>\n",
       "      <td>1780820</td>\n",
       "      <td>Chill Corner - Piano &amp; Guitar (Music Album)</td>\n",
       "      <td>This DLC added 21 new soundtracks with the pri...</td>\n",
       "      <td>110000.0</td>\n",
       "      <td>['싱글 플레이어', '다운로드 가능한 콘텐츠', 'Steam 도전 과제', 'St...</td>\n",
       "      <td>['캐주얼', '무료', '인디', '시뮬레이션']</td>\n",
       "      <td>NaN</td>\n",
       "      <td>2021년 12월 17일</td>\n",
       "      <td>['Low-Hi Tech']</td>\n",
       "      <td>NaN</td>\n",
       "      <td>https://cdn.akamai.steamstatic.com/steam/apps/...</td>\n",
       "    </tr>\n",
       "    <tr>\n",
       "      <th>1</th>\n",
       "      <td>1780830</td>\n",
       "      <td>Hundred Days - Napa Valley</td>\n",
       "      <td>Explore the napa valley region and its grape v...</td>\n",
       "      <td>950000.0</td>\n",
       "      <td>['싱글 플레이어', '다운로드 가능한 콘텐츠', 'Steam 도전 과제', '컨트...</td>\n",
       "      <td>['인디', '시뮬레이션', '전략']</td>\n",
       "      <td>NaN</td>\n",
       "      <td>2021년 12월 21일</td>\n",
       "      <td>['Broken Arms Games']</td>\n",
       "      <td>NaN</td>\n",
       "      <td>https://cdn.akamai.steamstatic.com/steam/apps/...</td>\n",
       "    </tr>\n",
       "    <tr>\n",
       "      <th>2</th>\n",
       "      <td>1780840</td>\n",
       "      <td>Loch Ness</td>\n",
       "      <td>Loch Ness is a 1-4 Player Co-Op Horror Hunter....</td>\n",
       "      <td>1450000.0</td>\n",
       "      <td>['싱글 플레이어', '멀티플레이어', '협동', '온라인 협동', 'Steam 도...</td>\n",
       "      <td>['인디', '앞서 해보기']</td>\n",
       "      <td>NaN</td>\n",
       "      <td>2021년 12월 3일</td>\n",
       "      <td>['JFi Games']</td>\n",
       "      <td>NaN</td>\n",
       "      <td>https://cdn.akamai.steamstatic.com/steam/apps/...</td>\n",
       "    </tr>\n",
       "    <tr>\n",
       "      <th>3</th>\n",
       "      <td>1780850</td>\n",
       "      <td>Cthulhu Dungeon</td>\n",
       "      <td>《不可名状的地牢》是一款以克苏鲁的呼唤跑团为背景的 战棋+DBG+Roguelike游戏，通...</td>\n",
       "      <td>750000.0</td>\n",
       "      <td>['싱글 플레이어']</td>\n",
       "      <td>['인디', '전략', '앞서 해보기']</td>\n",
       "      <td>NaN</td>\n",
       "      <td>2022년 2월 18일</td>\n",
       "      <td>['SanYeGame']</td>\n",
       "      <td>NaN</td>\n",
       "      <td>https://cdn.akamai.steamstatic.com/steam/apps/...</td>\n",
       "    </tr>\n",
       "    <tr>\n",
       "      <th>4</th>\n",
       "      <td>1780880</td>\n",
       "      <td>Queue Simulator</td>\n",
       "      <td>Queue simulator brings you your favorite part ...</td>\n",
       "      <td>110000.0</td>\n",
       "      <td>['싱글 플레이어', 'Steam 도전 과제']</td>\n",
       "      <td>['캐주얼', '인디', '대규모 멀티플레이어', 'RPG', '시뮬레이션']</td>\n",
       "      <td>NaN</td>\n",
       "      <td>2021년 12월 15일</td>\n",
       "      <td>['Just Making Games']</td>\n",
       "      <td>NaN</td>\n",
       "      <td>https://cdn.akamai.steamstatic.com/steam/apps/...</td>\n",
       "    </tr>\n",
       "  </tbody>\n",
       "</table>\n",
       "</div>"
      ],
      "text/plain": [
       "     appid                                         name  \\\n",
       "0  1780820  Chill Corner - Piano & Guitar (Music Album)   \n",
       "1  1780830                   Hundred Days - Napa Valley   \n",
       "2  1780840                                    Loch Ness   \n",
       "3  1780850                              Cthulhu Dungeon   \n",
       "4  1780880                              Queue Simulator   \n",
       "\n",
       "                                   short_description      price  \\\n",
       "0  This DLC added 21 new soundtracks with the pri...   110000.0   \n",
       "1  Explore the napa valley region and its grape v...   950000.0   \n",
       "2  Loch Ness is a 1-4 Player Co-Op Horror Hunter....  1450000.0   \n",
       "3  《不可名状的地牢》是一款以克苏鲁的呼唤跑团为背景的 战棋+DBG+Roguelike游戏，通...   750000.0   \n",
       "4  Queue simulator brings you your favorite part ...   110000.0   \n",
       "\n",
       "                                          categories  \\\n",
       "0  ['싱글 플레이어', '다운로드 가능한 콘텐츠', 'Steam 도전 과제', 'St...   \n",
       "1  ['싱글 플레이어', '다운로드 가능한 콘텐츠', 'Steam 도전 과제', '컨트...   \n",
       "2  ['싱글 플레이어', '멀티플레이어', '협동', '온라인 협동', 'Steam 도...   \n",
       "3                                        ['싱글 플레이어']   \n",
       "4                         ['싱글 플레이어', 'Steam 도전 과제']   \n",
       "\n",
       "                                        genres  recommendations  \\\n",
       "0                 ['캐주얼', '무료', '인디', '시뮬레이션']              NaN   \n",
       "1                        ['인디', '시뮬레이션', '전략']              NaN   \n",
       "2                             ['인디', '앞서 해보기']              NaN   \n",
       "3                       ['인디', '전략', '앞서 해보기']              NaN   \n",
       "4  ['캐주얼', '인디', '대규모 멀티플레이어', 'RPG', '시뮬레이션']              NaN   \n",
       "\n",
       "    release_date             developers  metacritic  \\\n",
       "0  2021년 12월 17일        ['Low-Hi Tech']         NaN   \n",
       "1  2021년 12월 21일  ['Broken Arms Games']         NaN   \n",
       "2   2021년 12월 3일          ['JFi Games']         NaN   \n",
       "3   2022년 2월 18일          ['SanYeGame']         NaN   \n",
       "4  2021년 12월 15일  ['Just Making Games']         NaN   \n",
       "\n",
       "                                               image  \n",
       "0  https://cdn.akamai.steamstatic.com/steam/apps/...  \n",
       "1  https://cdn.akamai.steamstatic.com/steam/apps/...  \n",
       "2  https://cdn.akamai.steamstatic.com/steam/apps/...  \n",
       "3  https://cdn.akamai.steamstatic.com/steam/apps/...  \n",
       "4  https://cdn.akamai.steamstatic.com/steam/apps/...  "
      ]
     },
     "execution_count": 4,
     "metadata": {},
     "output_type": "execute_result"
    }
   ],
   "source": [
    "# Preview the first 5 rows\n",
    "df.head()"
   ]
  },
  {
   "cell_type": "code",
   "execution_count": 5,
   "id": "bd80c681",
   "metadata": {},
   "outputs": [],
   "source": [
    "# Data cleaning functions\n",
    "def _removeNonAscii(s):\n",
    "    return \"\".join(i for i in str(s) if  ord(i) < 128)\n",
    "\n",
    "def make_lower_case(text):\n",
    "    return text.lower()\n",
    "\n",
    "def remove_stop_words(text):\n",
    "    text = text.split()\n",
    "    stops = set(stopwords.words(\"english\"))\n",
    "    text = [w for w in text if not w in stops]\n",
    "    text = \" \".join(text)\n",
    "    return text\n",
    "\n",
    "def remove_html(text):\n",
    "    html_pattern = re.compile('<.*?>')\n",
    "    return html_pattern.sub(r'', text)\n",
    "\n",
    "def remove_punctuation(text):\n",
    "    tokenizer = RegexpTokenizer(r'[a-zA-Z]+')\n",
    "    text = tokenizer.tokenize(text)\n",
    "    text = \" \".join(text)\n",
    "    return text\n",
    "\n",
    "\n",
    "# Data cleaning\n",
    "df['cleaned'] = df['short_description'].apply(_removeNonAscii)\n",
    "df['cleaned'] = df['cleaned'].apply(make_lower_case)\n",
    "df['cleaned'] = df['cleaned'].apply(remove_stop_words)\n",
    "df['cleaned'] = df['cleaned'].apply(remove_punctuation)\n",
    "df['cleaned'] = df['cleaned'].apply(remove_html)"
   ]
  },
  {
   "cell_type": "code",
   "execution_count": 6,
   "id": "1cff8ccf",
   "metadata": {},
   "outputs": [
    {
     "name": "stdout",
     "output_type": "stream",
     "text": [
      "Total number of documents after cleaning: 9395\n"
     ]
    }
   ],
   "source": [
    "# Remove empty rows\n",
    "df['cleaned'].replace('', np.nan, inplace=True)\n",
    "df = df[df['cleaned'].notna()]\n",
    "print('Total number of documents after cleaning:', len(df))"
   ]
  },
  {
   "cell_type": "code",
   "execution_count": 7,
   "id": "b30d84df",
   "metadata": {},
   "outputs": [
    {
     "data": {
      "text/plain": [
       "(0, 0)"
      ]
     },
     "execution_count": 7,
     "metadata": {},
     "output_type": "execute_result"
    }
   ],
   "source": [
    "# Build Word2Vec model\n",
    "corpus = [words.split() for words in df['cleaned']]\n",
    "word2vec_model = Word2Vec(size=300, window=5, min_count=2, workers=-1) # make model\n",
    "word2vec_model.build_vocab(corpus) # \n",
    "word2vec_model.intersect_word2vec_format('GoogleNews-vectors-negative300.bin.gz', lockf=1.0, binary=True) # pre-trained data\n",
    "word2vec_model.train(corpus, total_examples=word2vec_model.corpus_count, epochs=15) "
   ]
  },
  {
   "cell_type": "code",
   "execution_count": null,
   "id": "481d33ef",
   "metadata": {},
   "outputs": [],
   "source": [
    "# Get document vectors\n",
    "def get_document_vectors(document_list, model):\n",
    "    document_embedding_list = []\n",
    "    \n",
    "    for line in document_list:\n",
    "        doc2vec = None\n",
    "        count = 0\n",
    "        for word in line.split():\n",
    "            if word in model.wv.vocab:\n",
    "                count += 1\n",
    "                if doc2vec is None:\n",
    "                    doc2vec = model[word]\n",
    "                else:\n",
    "                    doc2vec = doc2vec + model[word]\n",
    "        if doc2vec is not None:\n",
    "            doc2vec = doc2vec / count\n",
    "            document_embedding_list.append(doc2vec)\n",
    "    \n",
    "    return document_embedding_list"
   ]
  },
  {
   "cell_type": "code",
   "execution_count": null,
   "id": "345407af",
   "metadata": {
    "scrolled": true
   },
   "outputs": [],
   "source": [
    "document_embedding_list = get_document_vectors(df['cleaned'], word2vec_model)\n",
    "print('Number of document vectors:', len(document_embedding_list))\n",
    "print(document_embedding_list)"
   ]
  },
  {
   "cell_type": "code",
   "execution_count": null,
   "id": "e57546e5",
   "metadata": {},
   "outputs": [],
   "source": [
    "# Calculate cosine similarity matrix\n",
    "cosine_similarities = cosine_similarity(document_embedding_list, document_embedding_list)\n",
    "print('Size of cosine similarity matrix:', cosine_similarities.shape)"
   ]
  },
  {
   "cell_type": "code",
   "execution_count": null,
   "id": "4c64d1b4",
   "metadata": {},
   "outputs": [],
   "source": [
    "def get_movie_indices(name, df, cosine_similarities):\n",
    "    # Get the index of the movie based on its name\n",
    "    indices = pd.Series(df.index, index=df['name']).drop_duplicates()\n",
    "    idx = indices[name]\n",
    "\n",
    "    # Get the indices of the most similar movies based on the cosine similarities\n",
    "    sim_scores = list(enumerate(cosine_similarities[idx]))\n",
    "    sim_scores = sorted(sim_scores, key=lambda x: x[1], reverse=True)\n",
    "    sim_scores = sim_scores[1:6]\n",
    "    movie_indices = [i[0] for i in sim_scores]\n",
    "\n",
    "    return movie_indices\n",
    "\n",
    "def show_recommendations(name, df, cosine_similarities):\n",
    "    movies = df[['name', 'image']]\n",
    "\n",
    "    # Get the indices of the recommended movies\n",
    "    movie_indices = get_movie_indices(name, df, cosine_similarities)\n",
    "\n",
    "    # Get the recommended movies based on their indices\n",
    "    recommend = movies.iloc[movie_indices].reset_index(drop=True)\n",
    "\n",
    "    fig, axs = plt.subplots(1, 5, figsize=(20, 30))\n",
    "\n",
    "    # Display the images of the recommended movies\n",
    "    for index, row in recommend.iterrows():\n",
    "        try:\n",
    "            response = requests.get(row['image'])\n",
    "            img = Image.open(BytesIO(response.content))\n",
    "            axs[index].imshow(img)\n",
    "            axs[index].set_title(row['name'])\n",
    "        except:\n",
    "            continue\n",
    "    plt.show()"
   ]
  },
  {
   "cell_type": "code",
   "execution_count": null,
   "id": "a7a4b5ab",
   "metadata": {},
   "outputs": [],
   "source": [
    "show_recommendations(\"Loch Ness\", df, cosine_similarities)\n"
   ]
  },
  {
   "cell_type": "code",
   "execution_count": null,
   "id": "4ca001f0",
   "metadata": {},
   "outputs": [],
   "source": []
  }
 ],
 "metadata": {
  "kernelspec": {
   "display_name": "Python 3 (ipykernel)",
   "language": "python",
   "name": "python3"
  },
  "language_info": {
   "codemirror_mode": {
    "name": "ipython",
    "version": 3
   },
   "file_extension": ".py",
   "mimetype": "text/x-python",
   "name": "python",
   "nbconvert_exporter": "python",
   "pygments_lexer": "ipython3",
   "version": "3.9.13"
  },
  "vscode": {
   "interpreter": {
    "hash": "326ae323b7ee706f340ac62c31b8dfba53121bbd643bd4bdd96d6a1b5e581a5a"
   }
  }
 },
 "nbformat": 4,
 "nbformat_minor": 5
}
